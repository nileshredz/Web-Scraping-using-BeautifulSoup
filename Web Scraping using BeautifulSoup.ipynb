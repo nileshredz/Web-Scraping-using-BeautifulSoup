{
 "cells": [
  {
   "cell_type": "markdown",
   "metadata": {},
   "source": [
    "# Webscraping using Python3\n",
    "\n",
    "## * Webscraping:\n",
    "Web scraping is about downloading structured data from the web, selecting some of that data, and passing along what you selected to another process.\n",
    "\n",
    "Before we take a dive into the implemntation part, Let's look at the page we will be scraping. To do that we will run the following code.\n",
    "\n",
    "My GitHub Profile: <a href = 'https://github.com/nileshredz'>Nilesh Ohol </a>👨‍💻"
   ]
  },
  {
   "cell_type": "code",
   "execution_count": 1,
   "metadata": {},
   "outputs": [
    {
     "name": "stdout",
     "output_type": "stream",
     "text": [
      "Look at your Default Browser and now we will do the implementations\n"
     ]
    }
   ],
   "source": [
    "import webbrowser\n",
    "webbrowser.open('https://s3.amazonaws.com/assets.datacamp.com/production/project_147/datasets/2701-h.htm')\n",
    "\n",
    "print(\"Look at your Default Browser and now we will do the implementations\")"
   ]
  },
  {
   "cell_type": "markdown",
   "metadata": {},
   "source": [
    "## 1. Tools for text processing\n",
    "<p><img style=\"float: right ; margin: 5px 20px 5px 10px; width: 45%\" src=\"https://assets.datacamp.com/production/project_38/img/Moby_Dick_p510_illustration.jpg\"> </p>\n",
    "<p>What are the most frequent words in Herman Melville's novel, Moby Dick, and how often do they occur?</p>\n",
    "<p>In this notebook, we'll scrape the novel <em>Moby Dick</em> from the website <a href=\"https://www.gutenberg.org/\">Project Gutenberg</a> (which contains a large corpus of books) using the Python package <code>requests</code>. Then we'll extract words from this web data using <code>BeautifulSoup</code>. Finally, we'll dive into analyzing the distribution of words using the Natural Language ToolKit (<code>nltk</code>) and <code>Counter</code>.</p>\n",
    "<p>The <em>Data Science pipeline</em> we'll build in this notebook can be used to visualize the word frequency distributions of any novel that you can find on Project Gutenberg. The natural language processing tools used here apply to much of the data that data scientists encounter as a vast proportion of the world's data is unstructured data and includes a great deal of text.</p>\n",
    "<p>Let's start by loading in the three main Python packages we are going to use.</p>"
   ]
  },
  {
   "cell_type": "code",
   "execution_count": 2,
   "metadata": {},
   "outputs": [
    {
     "name": "stdout",
     "output_type": "stream",
     "text": [
      "-------------------All the required modules are imported----------------------\n"
     ]
    }
   ],
   "source": [
    "import requests  # To fetch the HTML file\n",
    "from bs4 import BeautifulSoup # Extract words from the HTMl\n",
    "import nltk # Process the text\n",
    "from collections import Counter # Frequency of word.\n",
    "import pandas as pd\n",
    "\n",
    "print(\"-------------------All the required modules are imported----------------------\")"
   ]
  },
  {
   "cell_type": "markdown",
   "metadata": {},
   "source": [
    "## 2. Request Moby Dick\n",
    "<p>To analyze Moby Dick, we need to get the contents of Moby Dick from <em>somewhere</em>. Luckily, the text is freely available online at Project Gutenberg as an HTML file: https://www.gutenberg.org/files/2701/2701-h/2701-h.htm .</p>\n",
    "<p><strong>Note</strong> that HTML stands for Hypertext Markup Language and is the standard markup language for the web.</p>\n",
    "<p>To fetch the HTML file with Moby Dick we're going to use the <code>request</code> package to make a <code>GET</code> request for the website, which means we're <em>getting</em> data from it. This is what you're doing through a browser when visiting a webpage, but now we're getting the requested page directly into Python instead. </p>"
   ]
  },
  {
   "cell_type": "code",
   "execution_count": 3,
   "metadata": {},
   "outputs": [
    {
     "name": "stdout",
     "output_type": "stream",
     "text": [
      "----------------- These are the first 1000 characters in HTML file ------------------\n",
      "<?xml version=\"1.0\" encoding=\"utf-8\"?>\n",
      "\n",
      "<!DOCTYPE html\n",
      "   PUBLIC \"-//W3C//DTD XHTML 1.0 Strict//EN\"\n",
      "   \"http://www.w3.org/TR/xhtml1/DTD/xhtml1-strict.dtd\" >\n",
      "\n",
      "<html xmlns=\"http://www.w3.org/1999/xhtml\" lang=\"en\">\n",
      "  <head>\n",
      "    <title>\n",
      "      Moby Dick; Or the Whale, by Herman Melville\n",
      "    </title>\n",
      "    <style type=\"text/css\" xml:space=\"preserve\">\n",
      "\n",
      "    body { background:#faebd0; color:black; margin-left:15%; margin-right:15%; text-align:justify }\n",
      "    P { text-indent: 1em; margin-top: .25em; margin-bottom: .25em; }\n",
      "    H1,H2,H3,H4,H5,H6 { text-align: center; margin-left: 15%; margin-right: 15%; }\n",
      "    hr  { width: 50%; text-align: center;}\n",
      "    .foot { margin-left: 20%; margin-right: 20%; text-align: justify; text-indent: -3em; font-size: 90%; }\n",
      "    blockquote {font-size: 100%; margin-left: 0%; margin-right: 0%;}\n",
      "    .mynote    {background-color: #DDE; color: #000; padding: .5em; margin-left: 10%; margin-right: 10%; font-family: sans-serif; font-size: 95%;}\n",
      "    .toc       {\n"
     ]
    }
   ],
   "source": [
    "url = \"https://s3.amazonaws.com/assets.datacamp.com/production/project_147/datasets/2701-h.htm\"\n",
    "\n",
    "r = requests.get(url)\n",
    "r.encoding = 'utf-8'\n",
    "html = r.text\n",
    "\n",
    "print('----------------- These are the first 1000 characters in HTML file ------------------')\n",
    "print(html[:1000])"
   ]
  },
  {
   "cell_type": "markdown",
   "metadata": {},
   "source": [
    "## 3. Get the text from the HTML\n",
    "<p>This HTML is not quite what we want. However, it does <em>contain</em> what we want: the text of <em>Moby Dick</em>. What we need to do now is <em>wrangle</em> this HTML to extract the text of the novel. For this we'll use the package <code>BeautifulSoup</code>.</p>\n",
    "<p>Firstly, a word on the name of the package: Beautiful Soup? In web development, the term \"tag soup\" refers to structurally or syntactically incorrect HTML code written for a web page. What Beautiful Soup does best is to make tag soup beautiful again and to extract information from it with ease! In fact, the main object created and queried when using this package is called <code>BeautifulSoup</code>.</p>"
   ]
  },
  {
   "cell_type": "code",
   "execution_count": 4,
   "metadata": {},
   "outputs": [
    {
     "name": "stdout",
     "output_type": "stream",
     "text": [
      "---------- These are the text characters between 10000 to 13000 characters -----------\n",
      "\n",
      "  and sung of Leviathan, by many nations and generations, including our\n",
      "        own.\n",
      "      \n",
      "\n",
      "        So fare thee well, poor devil of a Sub-Sub, whose commentator I am. Thou\n",
      "        belongest to that hopeless, sallow tribe which no wine of this world\n",
      "        will ever warm; and for whom even Pale Sherry would be too rosy-strong;\n",
      "        but with whom one sometimes loves to sit, and feel poor-devilish, too;\n",
      "        and grow convivial upon tears; and say to them bluntly, with full eyes\n",
      "        and empty glasses, and in not altogether unpleasant sadness—Give\n",
      "        it up, Sub-Subs! For by how much the more pains ye take to please the\n",
      "        world, by so much the more shall ye for ever go thankless! Would that I\n",
      "        could clear out Hampton Court and the Tuileries for ye! But gulp down\n",
      "        your tears and hie aloft to the royal-mast with your hearts; for your\n",
      "        friends who have gone before are clearing out the seven-storied heavens,\n",
      "        and making refugees of long-pampered Gabriel, Michael, and Raphael,\n",
      "        against your coming. Here ye strike but splintered hearts together—there,\n",
      "        ye shall strike unsplinterable glasses!\n",
      "      \n",
      "\n",
      "      EXTRACTS.\n",
      "      \n",
      "\n",
      "        “And God created great whales.” —Genesis.\n",
      "      \n",
      "\n",
      "        “Leviathan maketh a path to shine after him; One would think the deep to\n",
      "        be hoary.” —Job.\n",
      "      \n",
      "\n",
      "        “Now the Lord had prepared a great fish to swallow up Jonah.” —Jonah.\n",
      "      \n",
      "\n",
      "        “There go the ships; there is that Leviathan whom thou hast made to play\n",
      "        therein.” —Psalms.\n",
      "      \n",
      "\n",
      "        “In that day, the Lord with his sore, and great, and strong sword, shall\n",
      "        punish Leviathan the piercing serpent, even Leviathan that crooked\n",
      "        serpent; and he shall slay the dragon that is in the sea.” —Isaiah.\n",
      "      \n",
      "\n",
      "        “And what thing soever besides cometh within the chaos of this monster’s\n",
      "        mouth, be it beast, boat, or stone, down it goes all incontinently that\n",
      "        foul great swallow of his, and perisheth in the bottomless gulf of his\n",
      "        paunch.” —Holland’s Plutarch’s Morals.\n",
      "      \n",
      "\n",
      "        “The Indian Sea breedeth the most and the biggest fishes that are: among\n",
      "        which the Whales and Whirlpooles called Balaene, take up as much in\n",
      "        length as four acres or arpens of land.” —Holland’s Pliny.\n",
      "      \n",
      "\n",
      "        “Scarcely had we proceeded two days on the sea, when about sunrise a\n",
      "        great many Whales and other monsters of the sea, appeared. Among the\n",
      "        former, one was of a most monstrous size.... This came towards us,\n",
      "        open-mouthed, raising the waves on all sides, and beating the sea before\n",
      "        him into a foam.” —Tooke’s Lucian. “The True History.”\n",
      "       \n",
      "\n",
      "        “He visited this country also with a view of catching horse-whales,\n",
      "        which had bones of very great value for their teeth, of which he brought\n",
      "        some to the king.... The best whales were catched in his own count\n"
     ]
    }
   ],
   "source": [
    "text = BeautifulSoup(html).text\n",
    "\n",
    "print('---------- These are the text characters between 10000 to 13000 characters -----------\\n')\n",
    "print(text[10000:13000])"
   ]
  },
  {
   "cell_type": "markdown",
   "metadata": {},
   "source": [
    "## 4. Extract the words\n",
    "<p>We now have the text of the novel! There is some unwanted stuff at the start and some unwanted stuff at the end. We could remove it, but this content is so much smaller in amount than the text of Moby Dick that, to a first approximation, it is okay to leave it in.</p>\n",
    "<p>Now that we have the text of interest, it's time to count how many times each word appears, and for this we'll use <code>nltk</code> – the Natural Language Toolkit. We'll start by tokenizing the text, that is, remove everything that isn't a word (whitespace, punctuation, etc.) and then split the text into a list of words.</p>"
   ]
  },
  {
   "cell_type": "code",
   "execution_count": 5,
   "metadata": {},
   "outputs": [
    {
     "name": "stdout",
     "output_type": "stream",
     "text": [
      "Tokenizer will split the string\n"
     ]
    }
   ],
   "source": [
    "tokenizer = nltk.tokenize.RegexpTokenizer('\\w+|\\$[\\d\\.]+|\\S+')\n",
    "print(\"Tokenizer will split the string\")"
   ]
  },
  {
   "cell_type": "code",
   "execution_count": 6,
   "metadata": {},
   "outputs": [
    {
     "name": "stdout",
     "output_type": "stream",
     "text": [
      "Total number of words: 254924\n",
      "['Moby', 'Dick', ';', 'Or', 'the', 'Whale', ',', 'by']\n"
     ]
    }
   ],
   "source": [
    "token = tokenizer.tokenize(text)\n",
    "\n",
    "print(f'Total number of words: {len(token)}')\n",
    "print(token[0:8])"
   ]
  },
  {
   "cell_type": "markdown",
   "metadata": {},
   "source": [
    "## 5. Make the words lowercase\n",
    "<p>OK! We're nearly there. Note that in the above 'Or' has a capital 'O' and that in other places it may not, but both 'Or' and 'or' should be counted as the same word. For this reason, we should build a list of all words in <em>Moby Dick</em> in which all capital letters have been made lower case.</p>"
   ]
  },
  {
   "cell_type": "code",
   "execution_count": 7,
   "metadata": {},
   "outputs": [
    {
     "name": "stdout",
     "output_type": "stream",
     "text": [
      "['moby', 'dick', ';', 'or', 'the', 'whale', ',', 'by']\n"
     ]
    }
   ],
   "source": [
    "words_lower = []\n",
    "for word in token:\n",
    "    words_lower.append(word.lower())\n",
    "    \n",
    "print(words_lower[0:8])"
   ]
  },
  {
   "cell_type": "markdown",
   "metadata": {},
   "source": [
    "## 6. Load in stop words\n",
    "<p>It is common practice to remove words that appear a lot in the English language such as 'the', 'of' and 'a' because they're not so interesting. Such words are known as <em>stop words</em>. The package <code>nltk</code> includes a good list of stop words in English that we can use.</p>"
   ]
  },
  {
   "cell_type": "code",
   "execution_count": 8,
   "metadata": {},
   "outputs": [
    {
     "name": "stdout",
     "output_type": "stream",
     "text": [
      "['i', 'me', 'my', 'myself', 'we', 'our', 'ours', 'ourselves']\n"
     ]
    }
   ],
   "source": [
    "print(nltk.corpus.stopwords.words('english')[0:8])"
   ]
  },
  {
   "cell_type": "markdown",
   "metadata": {},
   "source": [
    "## 7. Remove stop words in Moby Dick\n",
    "<p>We now want to create a new list with all <code>words</code> in Moby Dick, except those that are stop words (that is, those words listed in <code>sw</code>).</p>"
   ]
  },
  {
   "cell_type": "code",
   "execution_count": 9,
   "metadata": {},
   "outputs": [
    {
     "name": "stdout",
     "output_type": "stream",
     "text": [
      "Total number of words without stop words are: 149798\n",
      "['moby', 'dick', ';', 'whale', ',', 'herman', 'melville', 'body']\n"
     ]
    }
   ],
   "source": [
    "stop_words = nltk.corpus.stopwords.words('english')\n",
    "\n",
    "word_ns = [x for x in words_lower if x not in stop_words]\n",
    "\n",
    "print(f\"Total number of words without stop words are: {len(word_ns)}\")\n",
    "print(word_ns[0:8])"
   ]
  },
  {
   "cell_type": "markdown",
   "metadata": {},
   "source": [
    "## 8. We have the answer\n",
    "<p>Our original question was:</p>\n",
    "<blockquote>\n",
    "  <p>What are the most frequent words in Herman Melville's novel Moby Dick and how often do they occur?</p>\n",
    "</blockquote>\n",
    "<p>We are now ready to answer that! Let's answer this question using the <code>Counter</code> class we imported earlier.</p>"
   ]
  },
  {
   "cell_type": "code",
   "execution_count": 10,
   "metadata": {},
   "outputs": [
    {
     "name": "stdout",
     "output_type": "stream",
     "text": [
      "[(',', 17918), ('.', 7057), (';', 3968), ('’s', 1579), ('whale', 1233), ('!', 1127), ('one', 914), ('?', 585), ('like', 569), ('upon', 564)]\n"
     ]
    }
   ],
   "source": [
    "count = Counter(word_ns)\n",
    "\n",
    "top10 = count.most_common(10)\n",
    "\n",
    "print(top10)"
   ]
  },
  {
   "cell_type": "code",
   "execution_count": 12,
   "metadata": {},
   "outputs": [
    {
     "name": "stdout",
     "output_type": "stream",
     "text": [
      "Plotting the graph for frquency\n"
     ]
    },
    {
     "data": {
      "text/plain": [
       "<matplotlib.axes._subplots.AxesSubplot at 0x20e33db0608>"
      ]
     },
     "execution_count": 12,
     "metadata": {},
     "output_type": "execute_result"
    },
    {
     "data": {
      "image/png": "[encoded data removed]",
      "text/plain": [
       "<Figure size 432x288 with 1 Axes>"
      ]
     },
     "metadata": {
      "needs_background": "light"
     },
     "output_type": "display_data"
    }
   ],
   "source": [
    "print(\"Plotting the graph for frquency\")\n",
    "pd.DataFrame(top10).plot(x = 0,y =1, kind = 'barh',title= \"Top 10 words with their count \",fontsize = 12)\n"
   ]
  }
 ],
 "metadata": {
  "kernelspec": {
   "display_name": "Python 3",
   "language": "python",
   "name": "python3"
  },
  "language_info": {
   "codemirror_mode": {
    "name": "ipython",
    "version": 3
   },
   "file_extension": ".py",
   "mimetype": "text/x-python",
   "name": "python",
   "nbconvert_exporter": "python",
   "pygments_lexer": "ipython3",
   "version": "3.7.4"
  }
 },
 "nbformat": 4,
 "nbformat_minor": 4
}
